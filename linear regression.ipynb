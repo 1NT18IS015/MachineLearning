{
 "cells": [
  {
   "cell_type": "code",
   "execution_count": 13,
   "metadata": {},
   "outputs": [],
   "source": [
    "\n",
    "import pandas as pd \n",
    "import statistics as st\n",
    "import math\n",
    "import scipy.stats\n",
    "import matplotlib.pyplot as plt"
   ]
  },
  {
   "cell_type": "code",
   "execution_count": 30,
   "metadata": {
    "scrolled": true
   },
   "outputs": [
    {
     "name": "stdout",
     "output_type": "stream",
     "text": [
      "          x         y\n",
      "0    6.1101  17.59200\n",
      "1    5.5277   9.13020\n",
      "2    8.5186  13.66200\n",
      "3    7.0032  11.85400\n",
      "4    5.8598   6.82330\n",
      "..      ...       ...\n",
      "92   5.8707   7.20290\n",
      "93   5.3054   1.98690\n",
      "94   8.2934   0.14454\n",
      "95  13.3940   9.05510\n",
      "96   5.4369   0.61705\n",
      "\n",
      "[97 rows x 2 columns]\n"
     ]
    }
   ],
   "source": [
    "data = pd.read_csv(\"food-truck.csv\") \n",
    "print(data)"
   ]
  },
  {
   "cell_type": "code",
   "execution_count": 31,
   "metadata": {},
   "outputs": [
    {
     "name": "stdout",
     "output_type": "stream",
     "text": [
      "standard deviation of x: 3.8698835278823314\n"
     ]
    }
   ],
   "source": [
    "sx=st.stdev(data['x'])\n",
    "print(\"standard deviation of x:\",sx)"
   ]
  },
  {
   "cell_type": "code",
   "execution_count": 32,
   "metadata": {},
   "outputs": [
    {
     "name": "stdout",
     "output_type": "stream",
     "text": [
      "standard deviation of y: 5.510262255231544\n"
     ]
    }
   ],
   "source": [
    "sy=st.stdev(data['y'])\n",
    "print(\"standard deviation of y:\",sy)"
   ]
  },
  {
   "cell_type": "code",
   "execution_count": 33,
   "metadata": {},
   "outputs": [
    {
     "name": "stdout",
     "output_type": "stream",
     "text": [
      "correlation co-efficient: 0.8378732325263407\n"
     ]
    }
   ],
   "source": [
    "r=scipy.stats.pearsonr(data['x'],data['y'])[0]\n",
    "print(\"correlation co-efficient:\",r)"
   ]
  },
  {
   "cell_type": "code",
   "execution_count": 34,
   "metadata": {},
   "outputs": [
    {
     "name": "stdout",
     "output_type": "stream",
     "text": [
      "slope: 1.1930336441895935\n"
     ]
    }
   ],
   "source": [
    "slope=r*sy/sx\n",
    "print(\"slope:\",slope)"
   ]
  },
  {
   "cell_type": "code",
   "execution_count": 40,
   "metadata": {},
   "outputs": [
    {
     "name": "stdout",
     "output_type": "stream",
     "text": [
      "meam of X : 8.1598 \n",
      "Mean of Y: 5.839135051546392\n"
     ]
    }
   ],
   "source": [
    "mx=st.mean(data['x'])\n",
    "my=st.mean(data['y'])\n",
    "print(\"meam of X :\",mx,\"\\nMean of Y:\",my)"
   ]
  },
  {
   "cell_type": "code",
   "execution_count": 41,
   "metadata": {},
   "outputs": [
    {
     "name": "stdout",
     "output_type": "stream",
     "text": [
      "Slope c: -3.895780878311853\n"
     ]
    }
   ],
   "source": [
    "c=my-slope*mx\n",
    "print(\"Slope c:\",c)"
   ]
  },
  {
   "cell_type": "code",
   "execution_count": 58,
   "metadata": {},
   "outputs": [
    {
     "data": {
      "text/plain": [
       "[<matplotlib.lines.Line2D at 0x7f787b9417f0>]"
      ]
     },
     "execution_count": 58,
     "metadata": {},
     "output_type": "execute_result"
    },
    {
     "data": {
      "image/png": "[encoded data removed]",
      "text/plain": [
       "<Figure size 432x288 with 1 Axes>"
      ]
     },
     "metadata": {
      "needs_background": "light"
     },
     "output_type": "display_data"
    }
   ],
   "source": [
    "y1=[]\n",
    "for i in range(len(data)):\n",
    "    y1.append(slope*data['x'][i]+c)\n",
    "#print(ya)\n",
    "plt.scatter(data['x'],data['y'],color=\"brown\")\n",
    "plt.plot(data['x'],y1,color=\"Black\")"
   ]
  },
  {
   "cell_type": "code",
   "execution_count": 44,
   "metadata": {},
   "outputs": [
    {
     "name": "stdout",
     "output_type": "stream",
     "text": [
      "0     14.198226\n",
      "1      6.431249\n",
      "2      7.394804\n",
      "3      7.394728\n",
      "4      3.728142\n",
      "        ...    \n",
      "92     4.094738\n",
      "93     0.446840\n",
      "94     5.853984\n",
      "95     3.028612\n",
      "96     1.973574\n",
      "Name: y, Length: 97, dtype: float64\n"
     ]
    }
   ],
   "source": [
    "cost=abs(data['y']-y1)\n",
    "print(cost)"
   ]
  },
  {
   "cell_type": "code",
   "execution_count": 45,
   "metadata": {},
   "outputs": [
    {
     "name": "stdout",
     "output_type": "stream",
     "text": [
      "SSE 868.5324469391844\n"
     ]
    }
   ],
   "source": [
    "SSE=sum(cost**2)\n",
    "print(\"SSE\",SSE)"
   ]
  },
  {
   "cell_type": "code",
   "execution_count": 46,
   "metadata": {},
   "outputs": [
    {
     "name": "stdout",
     "output_type": "stream",
     "text": [
      "SST 2914.8470516572247\n"
     ]
    }
   ],
   "source": [
    "sst=sum((data['y']-st.mean(data['y']))**2)\n",
    "print(\"SST\",sst)"
   ]
  },
  {
   "cell_type": "code",
   "execution_count": 47,
   "metadata": {},
   "outputs": [
    {
     "name": "stdout",
     "output_type": "stream",
     "text": [
      "SSR 2046.3146047180385\n"
     ]
    }
   ],
   "source": [
    "SSR=sum((y1-st.mean(y1))**2)\n",
    "print(\"SSR\",SSR)"
   ]
  },
  {
   "cell_type": "code",
   "execution_count": 49,
   "metadata": {},
   "outputs": [
    {
     "name": "stdout",
     "output_type": "stream",
     "text": [
      "RSQ 0.7020315537841392\n"
     ]
    }
   ],
   "source": [
    "Rsq=SSR/sst\n",
    "print(\"RSQ\",Rsq)"
   ]
  },
  {
   "cell_type": "code",
   "execution_count": null,
   "metadata": {},
   "outputs": [],
   "source": []
  }
 ],
 "metadata": {
  "kernelspec": {
   "display_name": "Python 3",
   "language": "python",
   "name": "python3"
  },
  "language_info": {
   "codemirror_mode": {
    "name": "ipython",
    "version": 3
   },
   "file_extension": ".py",
   "mimetype": "text/x-python",
   "name": "python",
   "nbconvert_exporter": "python",
   "pygments_lexer": "ipython3",
   "version": "3.8.5"
  }
 },
 "nbformat": 4,
 "nbformat_minor": 4
}
